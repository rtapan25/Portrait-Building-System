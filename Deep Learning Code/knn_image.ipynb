{
 "cells": [
  {
   "cell_type": "code",
   "execution_count": 2,
   "metadata": {},
   "outputs": [
    {
     "name": "stdout",
     "output_type": "stream",
     "text": [
      "Collecting package metadata (current_repodata.json): ...working... done\n",
      "Solving environment: ...working... done\n",
      "\n",
      "# All requested packages already installed.\n",
      "\n"
     ]
    }
   ],
   "source": [
    "!conda install keras"
   ]
  },
  {
   "cell_type": "code",
   "execution_count": 3,
   "metadata": {},
   "outputs": [
    {
     "ename": "ModuleNotFoundError",
     "evalue": "No module named 'keras'",
     "output_type": "error",
     "traceback": [
      "\u001b[1;31m---------------------------------------------------------------------------\u001b[0m",
      "\u001b[1;31mModuleNotFoundError\u001b[0m                       Traceback (most recent call last)",
      "\u001b[1;32m<ipython-input-3-299b62273f65>\u001b[0m in \u001b[0;36m<module>\u001b[1;34m\u001b[0m\n\u001b[0;32m      3\u001b[0m \u001b[1;32mfrom\u001b[0m \u001b[0msklearn\u001b[0m\u001b[1;33m.\u001b[0m\u001b[0mdecomposition\u001b[0m \u001b[1;32mimport\u001b[0m \u001b[0mPCA\u001b[0m\u001b[1;33m\u001b[0m\u001b[1;33m\u001b[0m\u001b[0m\n\u001b[0;32m      4\u001b[0m \u001b[1;32mimport\u001b[0m \u001b[0mnumpy\u001b[0m \u001b[1;32mas\u001b[0m \u001b[0mnp\u001b[0m\u001b[1;33m\u001b[0m\u001b[1;33m\u001b[0m\u001b[0m\n\u001b[1;32m----> 5\u001b[1;33m \u001b[1;32mimport\u001b[0m \u001b[0mkeras\u001b[0m\u001b[1;33m\u001b[0m\u001b[1;33m\u001b[0m\u001b[0m\n\u001b[0m\u001b[0;32m      6\u001b[0m \u001b[1;32mimport\u001b[0m \u001b[0mmatplotlib\u001b[0m\u001b[1;33m.\u001b[0m\u001b[0mpyplot\u001b[0m \u001b[1;32mas\u001b[0m \u001b[0mplt\u001b[0m\u001b[1;33m\u001b[0m\u001b[1;33m\u001b[0m\u001b[0m\n",
      "\u001b[1;31mModuleNotFoundError\u001b[0m: No module named 'keras'"
     ]
    }
   ],
   "source": [
    "import random, cv2, os, sys, shutil\n",
    "from sklearn.cluster import KMeans\n",
    "from sklearn.decomposition import PCA\n",
    "import numpy as np\n",
    "import keras\n",
    "import matplotlib.pyplot as plt"
   ]
  },
  {
   "cell_type": "code",
   "execution_count": 4,
   "metadata": {},
   "outputs": [],
   "source": [
    "class image_clustering:\n",
    "\n",
    "\tdef __init__(self, folder_path=\"data\", n_clusters=10, max_examples=None, use_imagenets=False, use_pca=False):\n",
    "\t\tpaths = os.listdir(folder_path)\n",
    "\t\tif max_examples == None:\n",
    "\t\t\tself.max_examples = len(paths)\n",
    "\t\telse:\n",
    "\t\t\tif max_examples > len(paths):\n",
    "\t\t\t\tself.max_examples = len(paths)\n",
    "\t\t\telse:\n",
    "\t\t\t\tself.max_examples = max_examples\n",
    "\t\tself.n_clusters = n_clusters\n",
    "\t\tself.folder_path = folder_path\n",
    "\t\trandom.shuffle(paths)\n",
    "\t\tself.image_paths = paths[:self.max_examples]\n",
    "\t\tself.use_imagenets = use_imagenets\n",
    "\t\tself.use_pca = use_pca\n",
    "\t\tdel paths \n",
    "\t\ttry:\n",
    "\t\t\tshutil.rmtree(\"output\")\n",
    "\t\texcept FileExistsError:\n",
    "\t\t\tpass\n",
    "\t\tprint(\"\\n output folders created.\")\n",
    "\t\tos.makedirs(\"output\")\n",
    "\t\tfor i in range(self.n_clusters):\n",
    "\t\t\tos.makedirs(\"output\\\\cluster\" + str(i))\n",
    "\t\tprint(\"\\n Object of class \\\"image_clustering\\\" has been initialized.\")\n",
    "\n",
    "\tdef load_images(self):\n",
    "\t\tself.images = []\n",
    "\t\tfor image in self.image_paths:\n",
    "\t\t\tself.images.append(cv2.cvtColor(cv2.resize(cv2.imread(self.folder_path + \"\\\\\" + image), (224,224)), cv2.COLOR_BGR2RGB))\n",
    "\t\tself.images = np.float32(self.images).reshape(len(self.images), -1)\n",
    "\t\tself.images /= 255\n",
    "\t\tprint(\"\\n \" + str(self.max_examples) + \" images from the \\\"\" + self.folder_path + \"\\\" folder have been loaded in a random order.\")\n",
    "\n",
    "\tdef get_new_imagevectors(self):\n",
    "\t\tif self.use_imagenets == False:\n",
    "\t\t\tself.images_new = self.images\n",
    "\t\telse:\n",
    "\t\t\tif use_imagenets.lower() == \"vgg16\":\n",
    "\t\t\t\tmodel1 = keras.applications.vgg19.vgg19(include_top=False, weights=\"imagenet\", input_shape=(224,224,3))\n",
    "\t\t\telif use_imagenets.lower() == \"vgg19\":\n",
    "\t\t\t\tmodel1 = keras.applications.vgg19.vgg19(include_top=False, weights=\"imagenet\", input_shape=(224,224,3))\n",
    "\t\t\telif use_imagenets.lower() == \"resnet50\":\n",
    "\t\t\t\tmodel1 = keras.applications.resnet50.ResNet50(include_top=False, weights=\"imagenet\", input_shape=(224,224,3))\n",
    "\t\t\telif use_imagenets.lower() == \"xception\":\n",
    "\t\t\t\tmodel1 = keras.applications.xception.Xception(include_top=False, weights='imagenet',input_shape=(224,224,3))\n",
    "\t\t\telif use_imagenets.lower() == \"inceptionv3\":\n",
    "\t\t\t\tkeras.applications.inception_v3.InceptionV3(include_top=False, weights='imagenet', input_shape=(224,224,3))\n",
    "\t\t\telif use_imagenets.lower() == \"inceptionresnetv2\":\n",
    "\t\t\t\tmodel1 = keras.applications.inception_resnet_v2.InceptionResNetV2(include_top=False, weights='imagenet', input_shape=(224,224,3))\n",
    "\t\t\telif use_imagenets.lower() == \"densenet\":\n",
    "\t\t\t\tmodel1 = keras.applications.densenet.DenseNet201(include_top=False, weights='imagenet', input_shape=(224,224,3))\n",
    "\t\t\telif use_imagenets.lower() == \"mobilenetv2\":\n",
    "\t\t\t\tmodel1 = keras.applications.mobilenetv2.MobileNetV2(input_shape=(224,224,3), alpha=1.0, depth_multiplier=1, include_top=False, weights='imagenet', pooling=None)\n",
    "\t\t\telse:\n",
    "\t\t\t\tprint(\"\\n\\n Please use one of the following keras applications only [ \\\"vgg16\\\", \\\"vgg19\\\", \\\"resnet50\\\", \\\"xception\\\", \\\"inceptionv3\\\", \\\"inceptionresnetv2\\\", \\\"densenet\\\", \\\"mobilenetv2\\\" ] or False\")\n",
    "\t\t\t\tsys.exit()\n",
    "\n",
    "\t\t\tpred = model1.predict(self.images)\n",
    "\t\t\timages_temp = pred.reshape(self.images.shape[0], -1)\n",
    "\t\t\tif self.use_pca == False: \n",
    "\t\t\t\tself.images_new = images_temp\n",
    "\t\t\telse: \n",
    "\t\t\t\tmodel2 = PCA(n_components=None, random_state=728)\n",
    "\t\t\t\tmodel2.fit(images_temp)\n",
    "\t\t\t\tself.images_new = model2\n",
    "\n",
    "\tdef clustering(self):\n",
    "\t\tmodel = KMeans(n_clusters=self.n_clusters, n_jobs=-1, random_state=728)\n",
    "\t\tmodel.fit(self.images_new)\n",
    "\n",
    "\t\tpredictions = model.predict(self.images_new)\n",
    "\t\tcenters=model.cluster_centers_\n",
    "\t\tplt.scatter(centers[:,0],centers[:,1])\n",
    "\t\tplt.show()\n",
    "\t\tplt.savefig('plot.jpg')\n",
    "\n",
    "\t\t#print(predictions)\n",
    "\t\tfor i in range(self.max_examples):\n",
    "\t\t\tshutil.copy2(self.folder_path+\"\\\\\"+self.image_paths[i], \"output\\cluster\"+str(predictions[i]))\n",
    "\t\tprint(\"\\n Clustering complete! \\n\\n Clusters and the respective images are stored in the \\\"output\\\" folder.\")"
   ]
  },
  {
   "cell_type": "code",
   "execution_count": 5,
   "metadata": {},
   "outputs": [
    {
     "name": "stdout",
     "output_type": "stream",
     "text": [
      "\n",
      "\n",
      " \t\t START\n",
      "\n",
      "\n"
     ]
    },
    {
     "ename": "FileNotFoundError",
     "evalue": "[WinError 3] The system cannot find the path specified: 'output'",
     "output_type": "error",
     "traceback": [
      "\u001b[1;31m---------------------------------------------------------------------------\u001b[0m",
      "\u001b[1;31mFileNotFoundError\u001b[0m                         Traceback (most recent call last)",
      "\u001b[1;32m<ipython-input-5-06fcb56dc205>\u001b[0m in \u001b[0;36m<module>\u001b[1;34m\u001b[0m\n\u001b[0;32m     17\u001b[0m     \u001b[0muse_pca\u001b[0m \u001b[1;33m=\u001b[0m \u001b[1;32mFalse\u001b[0m \u001b[1;31m# Make it True if you want to use PCA for dimentionaity reduction -> Default is: False\u001b[0m\u001b[1;33m\u001b[0m\u001b[1;33m\u001b[0m\u001b[0m\n\u001b[0;32m     18\u001b[0m \u001b[1;33m\u001b[0m\u001b[0m\n\u001b[1;32m---> 19\u001b[1;33m \u001b[0mtemp\u001b[0m \u001b[1;33m=\u001b[0m \u001b[0mimage_clustering\u001b[0m\u001b[1;33m(\u001b[0m\u001b[0mdata_path\u001b[0m\u001b[1;33m,\u001b[0m \u001b[0mnumber_of_clusters\u001b[0m\u001b[1;33m,\u001b[0m \u001b[0mmax_examples\u001b[0m\u001b[1;33m,\u001b[0m \u001b[0muse_imagenets\u001b[0m\u001b[1;33m,\u001b[0m \u001b[0muse_pca\u001b[0m\u001b[1;33m)\u001b[0m\u001b[1;33m\u001b[0m\u001b[1;33m\u001b[0m\u001b[0m\n\u001b[0m\u001b[0;32m     20\u001b[0m \u001b[0mtemp\u001b[0m\u001b[1;33m.\u001b[0m\u001b[0mload_images\u001b[0m\u001b[1;33m(\u001b[0m\u001b[1;33m)\u001b[0m\u001b[1;33m\u001b[0m\u001b[1;33m\u001b[0m\u001b[0m\n",
      "\u001b[1;32m<ipython-input-4-61c4b9b9800c>\u001b[0m in \u001b[0;36m__init__\u001b[1;34m(self, folder_path, n_clusters, max_examples, use_imagenets, use_pca)\u001b[0m\n\u001b[0;32m     18\u001b[0m                 \u001b[1;32mdel\u001b[0m \u001b[0mpaths\u001b[0m\u001b[1;33m\u001b[0m\u001b[1;33m\u001b[0m\u001b[0m\n\u001b[0;32m     19\u001b[0m                 \u001b[1;32mtry\u001b[0m\u001b[1;33m:\u001b[0m\u001b[1;33m\u001b[0m\u001b[1;33m\u001b[0m\u001b[0m\n\u001b[1;32m---> 20\u001b[1;33m                         \u001b[0mshutil\u001b[0m\u001b[1;33m.\u001b[0m\u001b[0mrmtree\u001b[0m\u001b[1;33m(\u001b[0m\u001b[1;34m\"output\"\u001b[0m\u001b[1;33m)\u001b[0m\u001b[1;33m\u001b[0m\u001b[1;33m\u001b[0m\u001b[0m\n\u001b[0m\u001b[0;32m     21\u001b[0m                 \u001b[1;32mexcept\u001b[0m \u001b[0mFileExistsError\u001b[0m\u001b[1;33m:\u001b[0m\u001b[1;33m\u001b[0m\u001b[1;33m\u001b[0m\u001b[0m\n\u001b[0;32m     22\u001b[0m                         \u001b[1;32mpass\u001b[0m\u001b[1;33m\u001b[0m\u001b[1;33m\u001b[0m\u001b[0m\n",
      "\u001b[1;32m~\\AppData\\Local\\Continuum\\anaconda3\\lib\\shutil.py\u001b[0m in \u001b[0;36mrmtree\u001b[1;34m(path, ignore_errors, onerror)\u001b[0m\n\u001b[0;32m    514\u001b[0m             \u001b[1;31m# can't continue even if onerror hook returns\u001b[0m\u001b[1;33m\u001b[0m\u001b[1;33m\u001b[0m\u001b[1;33m\u001b[0m\u001b[0m\n\u001b[0;32m    515\u001b[0m             \u001b[1;32mreturn\u001b[0m\u001b[1;33m\u001b[0m\u001b[1;33m\u001b[0m\u001b[0m\n\u001b[1;32m--> 516\u001b[1;33m         \u001b[1;32mreturn\u001b[0m \u001b[0m_rmtree_unsafe\u001b[0m\u001b[1;33m(\u001b[0m\u001b[0mpath\u001b[0m\u001b[1;33m,\u001b[0m \u001b[0monerror\u001b[0m\u001b[1;33m)\u001b[0m\u001b[1;33m\u001b[0m\u001b[1;33m\u001b[0m\u001b[0m\n\u001b[0m\u001b[0;32m    517\u001b[0m \u001b[1;33m\u001b[0m\u001b[0m\n\u001b[0;32m    518\u001b[0m \u001b[1;31m# Allow introspection of whether or not the hardening against symlink\u001b[0m\u001b[1;33m\u001b[0m\u001b[1;33m\u001b[0m\u001b[1;33m\u001b[0m\u001b[0m\n",
      "\u001b[1;32m~\\AppData\\Local\\Continuum\\anaconda3\\lib\\shutil.py\u001b[0m in \u001b[0;36m_rmtree_unsafe\u001b[1;34m(path, onerror)\u001b[0m\n\u001b[0;32m    375\u001b[0m             \u001b[0mentries\u001b[0m \u001b[1;33m=\u001b[0m \u001b[0mlist\u001b[0m\u001b[1;33m(\u001b[0m\u001b[0mscandir_it\u001b[0m\u001b[1;33m)\u001b[0m\u001b[1;33m\u001b[0m\u001b[1;33m\u001b[0m\u001b[0m\n\u001b[0;32m    376\u001b[0m     \u001b[1;32mexcept\u001b[0m \u001b[0mOSError\u001b[0m\u001b[1;33m:\u001b[0m\u001b[1;33m\u001b[0m\u001b[1;33m\u001b[0m\u001b[0m\n\u001b[1;32m--> 377\u001b[1;33m         \u001b[0monerror\u001b[0m\u001b[1;33m(\u001b[0m\u001b[0mos\u001b[0m\u001b[1;33m.\u001b[0m\u001b[0mscandir\u001b[0m\u001b[1;33m,\u001b[0m \u001b[0mpath\u001b[0m\u001b[1;33m,\u001b[0m \u001b[0msys\u001b[0m\u001b[1;33m.\u001b[0m\u001b[0mexc_info\u001b[0m\u001b[1;33m(\u001b[0m\u001b[1;33m)\u001b[0m\u001b[1;33m)\u001b[0m\u001b[1;33m\u001b[0m\u001b[1;33m\u001b[0m\u001b[0m\n\u001b[0m\u001b[0;32m    378\u001b[0m         \u001b[0mentries\u001b[0m \u001b[1;33m=\u001b[0m \u001b[1;33m[\u001b[0m\u001b[1;33m]\u001b[0m\u001b[1;33m\u001b[0m\u001b[1;33m\u001b[0m\u001b[0m\n\u001b[0;32m    379\u001b[0m     \u001b[1;32mfor\u001b[0m \u001b[0mentry\u001b[0m \u001b[1;32min\u001b[0m \u001b[0mentries\u001b[0m\u001b[1;33m:\u001b[0m\u001b[1;33m\u001b[0m\u001b[1;33m\u001b[0m\u001b[0m\n",
      "\u001b[1;32m~\\AppData\\Local\\Continuum\\anaconda3\\lib\\shutil.py\u001b[0m in \u001b[0;36m_rmtree_unsafe\u001b[1;34m(path, onerror)\u001b[0m\n\u001b[0;32m    372\u001b[0m \u001b[1;32mdef\u001b[0m \u001b[0m_rmtree_unsafe\u001b[0m\u001b[1;33m(\u001b[0m\u001b[0mpath\u001b[0m\u001b[1;33m,\u001b[0m \u001b[0monerror\u001b[0m\u001b[1;33m)\u001b[0m\u001b[1;33m:\u001b[0m\u001b[1;33m\u001b[0m\u001b[1;33m\u001b[0m\u001b[0m\n\u001b[0;32m    373\u001b[0m     \u001b[1;32mtry\u001b[0m\u001b[1;33m:\u001b[0m\u001b[1;33m\u001b[0m\u001b[1;33m\u001b[0m\u001b[0m\n\u001b[1;32m--> 374\u001b[1;33m         \u001b[1;32mwith\u001b[0m \u001b[0mos\u001b[0m\u001b[1;33m.\u001b[0m\u001b[0mscandir\u001b[0m\u001b[1;33m(\u001b[0m\u001b[0mpath\u001b[0m\u001b[1;33m)\u001b[0m \u001b[1;32mas\u001b[0m \u001b[0mscandir_it\u001b[0m\u001b[1;33m:\u001b[0m\u001b[1;33m\u001b[0m\u001b[1;33m\u001b[0m\u001b[0m\n\u001b[0m\u001b[0;32m    375\u001b[0m             \u001b[0mentries\u001b[0m \u001b[1;33m=\u001b[0m \u001b[0mlist\u001b[0m\u001b[1;33m(\u001b[0m\u001b[0mscandir_it\u001b[0m\u001b[1;33m)\u001b[0m\u001b[1;33m\u001b[0m\u001b[1;33m\u001b[0m\u001b[0m\n\u001b[0;32m    376\u001b[0m     \u001b[1;32mexcept\u001b[0m \u001b[0mOSError\u001b[0m\u001b[1;33m:\u001b[0m\u001b[1;33m\u001b[0m\u001b[1;33m\u001b[0m\u001b[0m\n",
      "\u001b[1;31mFileNotFoundError\u001b[0m: [WinError 3] The system cannot find the path specified: 'output'"
     ]
    }
   ],
   "source": [
    "\n",
    "\n",
    "print(\"\\n\\n \\t\\t START\\n\\n\")\n",
    "\n",
    "number_of_clusters = 10 # cluster names will be 0 to number_of_clusters-1\n",
    "\n",
    "data_path = r\"C:\\Users\\tapan\\JUpyter\\face-clustering\\face-clustering\\CDDATA\\Detected Right-Eye\" # path of the folder that contains the images to be considered for the clustering (The folder must contain only image files)\n",
    "\n",
    "max_examples = None # number of examples to use, if \"None\" all of the images will be taken into consideration for the clustering\n",
    "# If the value is greater than the number of images present  in the \"data_path\" folder, it will use all the images and change the value of this variable to the number of images available in the \"data_path\" folder. \n",
    "\n",
    "use_imagenets = False\n",
    "# choose from: \"Xception\", \"VGG16\", \"VGG19\", \"ResNet50\", \"InceptionV3\", \"InceptionResNetV2\", \"DenseNet\", \"MobileNetV2\" and \"False\" -> Default is: False\n",
    "# you have to use the correct spelling! (case of the letters are irrelevant as the lower() function has been used)\n",
    "\n",
    "if use_imagenets == False:\n",
    "    use_pca = False\n",
    "else:\n",
    "    use_pca = False # Make it True if you want to use PCA for dimentionaity reduction -> Default is: False\n",
    "\n",
    "temp = image_clustering(data_path, number_of_clusters, max_examples, use_imagenets, use_pca)\n",
    "temp.load_images()\n"
   ]
  },
  {
   "cell_type": "code",
   "execution_count": 7,
   "metadata": {},
   "outputs": [
    {
     "ename": "NameError",
     "evalue": "name 'temp' is not defined",
     "output_type": "error",
     "traceback": [
      "\u001b[1;31m---------------------------------------------------------------------------\u001b[0m",
      "\u001b[1;31mNameError\u001b[0m                                 Traceback (most recent call last)",
      "\u001b[1;32m<ipython-input-7-908385231745>\u001b[0m in \u001b[0;36m<module>\u001b[1;34m\u001b[0m\n\u001b[1;32m----> 1\u001b[1;33m \u001b[0mtemp\u001b[0m\u001b[1;33m.\u001b[0m\u001b[0mget_new_imagevectors\u001b[0m\u001b[1;33m(\u001b[0m\u001b[1;33m)\u001b[0m\u001b[1;33m\u001b[0m\u001b[1;33m\u001b[0m\u001b[0m\n\u001b[0m\u001b[0;32m      2\u001b[0m \u001b[0mtemp\u001b[0m\u001b[1;33m.\u001b[0m\u001b[0mclustering\u001b[0m\u001b[1;33m(\u001b[0m\u001b[1;33m)\u001b[0m\u001b[1;33m\u001b[0m\u001b[1;33m\u001b[0m\u001b[0m\n\u001b[0;32m      3\u001b[0m \u001b[1;33m\u001b[0m\u001b[0m\n\u001b[0;32m      4\u001b[0m \u001b[0mprint\u001b[0m\u001b[1;33m(\u001b[0m\u001b[1;34m\"\\n\\n\\t\\t END\\n\\n\"\u001b[0m\u001b[1;33m)\u001b[0m\u001b[1;33m\u001b[0m\u001b[1;33m\u001b[0m\u001b[0m\n",
      "\u001b[1;31mNameError\u001b[0m: name 'temp' is not defined"
     ]
    }
   ],
   "source": [
    "temp.get_new_imagevectors()\n",
    "temp.clustering()\n",
    "\n",
    "print(\"\\n\\n\\t\\t END\\n\\n\")"
   ]
  },
  {
   "cell_type": "code",
   "execution_count": null,
   "metadata": {},
   "outputs": [],
   "source": []
  }
 ],
 "metadata": {
  "kernelspec": {
   "display_name": "Python 3",
   "language": "python",
   "name": "python3"
  },
  "language_info": {
   "codemirror_mode": {
    "name": "ipython",
    "version": 3
   },
   "file_extension": ".py",
   "mimetype": "text/x-python",
   "name": "python",
   "nbconvert_exporter": "python",
   "pygments_lexer": "ipython3",
   "version": "3.7.5"
  }
 },
 "nbformat": 4,
 "nbformat_minor": 4
}
